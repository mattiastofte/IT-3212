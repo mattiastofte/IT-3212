{
 "cells": [
  {
   "cell_type": "code",
   "execution_count": 83,
   "id": "8653994e",
   "metadata": {},
   "outputs": [],
   "source": [
    "import pandas as pd"
   ]
  },
  {
   "cell_type": "code",
   "execution_count": 84,
   "id": "a9fb06f6",
   "metadata": {},
   "outputs": [
    {
     "name": "stdout",
     "output_type": "stream",
     "text": [
      "Original Dataset Preview:\n",
      "                        time  generation biomass  \\\n",
      "0  2015-01-01 00:00:00+01:00               447.0   \n",
      "1  2015-01-01 01:00:00+01:00               449.0   \n",
      "2  2015-01-01 02:00:00+01:00               448.0   \n",
      "3  2015-01-01 03:00:00+01:00               438.0   \n",
      "4  2015-01-01 04:00:00+01:00               428.0   \n",
      "\n",
      "   generation fossil brown coal/lignite  generation fossil coal-derived gas  \\\n",
      "0                                 329.0                                 0.0   \n",
      "1                                 328.0                                 0.0   \n",
      "2                                 323.0                                 0.0   \n",
      "3                                 254.0                                 0.0   \n",
      "4                                 187.0                                 0.0   \n",
      "\n",
      "   generation fossil gas  generation fossil hard coal  generation fossil oil  \\\n",
      "0                 4844.0                       4821.0                  162.0   \n",
      "1                 5196.0                       4755.0                  158.0   \n",
      "2                 4857.0                       4581.0                  157.0   \n",
      "3                 4314.0                       4131.0                  160.0   \n",
      "4                 4130.0                       3840.0                  156.0   \n",
      "\n",
      "   generation fossil oil shale  generation fossil peat  generation geothermal  \\\n",
      "0                          0.0                     0.0                    0.0   \n",
      "1                          0.0                     0.0                    0.0   \n",
      "2                          0.0                     0.0                    0.0   \n",
      "3                          0.0                     0.0                    0.0   \n",
      "4                          0.0                     0.0                    0.0   \n",
      "\n",
      "   ...  generation waste  generation wind offshore  generation wind onshore  \\\n",
      "0  ...             196.0                       0.0                   6378.0   \n",
      "1  ...             195.0                       0.0                   5890.0   \n",
      "2  ...             196.0                       0.0                   5461.0   \n",
      "3  ...             191.0                       0.0                   5238.0   \n",
      "4  ...             189.0                       0.0                   4935.0   \n",
      "\n",
      "   forecast solar day ahead  forecast wind offshore eday ahead  \\\n",
      "0                      17.0                                NaN   \n",
      "1                      16.0                                NaN   \n",
      "2                       8.0                                NaN   \n",
      "3                       2.0                                NaN   \n",
      "4                       9.0                                NaN   \n",
      "\n",
      "   forecast wind onshore day ahead  total load forecast  total load actual  \\\n",
      "0                           6436.0              26118.0            25385.0   \n",
      "1                           5856.0              24934.0            24382.0   \n",
      "2                           5454.0              23515.0            22734.0   \n",
      "3                           5151.0              22642.0            21286.0   \n",
      "4                           4861.0              21785.0            20264.0   \n",
      "\n",
      "   price day ahead  price actual  \n",
      "0            50.10         65.41  \n",
      "1            48.10         64.92  \n",
      "2            47.33         64.48  \n",
      "3            42.27         59.32  \n",
      "4            38.41         56.04  \n",
      "\n",
      "[5 rows x 29 columns]\n"
     ]
    }
   ],
   "source": [
    "file_path = '../data/raw/energy_dataset.csv'\n",
    "df = pd.read_csv(file_path)\n",
    "\n",
    "print(\"Original Dataset Preview:\")\n",
    "print(df.head())\n",
    "orig_rows, orig_cols = df.shape"
   ]
  },
  {
   "cell_type": "code",
   "execution_count": 85,
   "id": "eff015eb",
   "metadata": {},
   "outputs": [
    {
     "name": "stdout",
     "output_type": "stream",
     "text": [
      "\n",
      "Missing Values per Column:\n",
      "time                                               0\n",
      "generation biomass                                19\n",
      "generation fossil brown coal/lignite              18\n",
      "generation fossil coal-derived gas                18\n",
      "generation fossil gas                             18\n",
      "generation fossil hard coal                       18\n",
      "generation fossil oil                             19\n",
      "generation fossil oil shale                       18\n",
      "generation fossil peat                            18\n",
      "generation geothermal                             18\n",
      "generation hydro pumped storage aggregated     35064\n",
      "generation hydro pumped storage consumption       19\n",
      "generation hydro run-of-river and poundage        19\n",
      "generation hydro water reservoir                  18\n",
      "generation marine                                 19\n",
      "generation nuclear                                17\n",
      "generation other                                  18\n",
      "generation other renewable                        18\n",
      "generation solar                                  18\n",
      "generation waste                                  19\n",
      "generation wind offshore                          18\n",
      "generation wind onshore                           18\n",
      "forecast solar day ahead                           0\n",
      "forecast wind offshore eday ahead              35064\n",
      "forecast wind onshore day ahead                    0\n",
      "total load forecast                                0\n",
      "total load actual                                 36\n",
      "price day ahead                                    0\n",
      "price actual                                       0\n",
      "dtype: int64\n"
     ]
    }
   ],
   "source": [
    "missing_counts = df.isnull().sum()\n",
    "print(\"\\nMissing Values per Column:\")\n",
    "print(missing_counts)"
   ]
  },
  {
   "cell_type": "code",
   "execution_count": null,
   "id": "44c0842d",
   "metadata": {},
   "outputs": [
    {
     "name": "stdout",
     "output_type": "stream",
     "text": [
      "Cleaned shape: (35064, 27)\n",
      "\n",
      "Remaining columns:\n",
      "['time', 'generation biomass', 'generation fossil brown coal/lignite', 'generation fossil coal-derived gas', 'generation fossil gas', 'generation fossil hard coal', 'generation fossil oil', 'generation fossil oil shale', 'generation fossil peat', 'generation geothermal', 'generation hydro pumped storage consumption', 'generation hydro run-of-river and poundage', 'generation hydro water reservoir', 'generation marine', 'generation nuclear', 'generation other', 'generation other renewable', 'generation solar', 'generation waste', 'generation wind offshore', 'generation wind onshore', 'forecast solar day ahead', 'forecast wind onshore day ahead', 'total load forecast', 'total load actual', 'price day ahead', 'price actual']\n"
     ]
    }
   ],
   "source": [
    "threshold = int(0.8 * len(df.columns))\n",
    "df_cleaned = df.dropna(thresh=threshold)\n",
    "df_cleaned = df_cleaned.dropna(axis=1, how='all')               # drop fully NaN columns\n",
    "df_cleaned = df_cleaned.loc[:, (df_cleaned != 0).any(axis=0)]   # drop all-zero columns\n",
    "\n",
    "print(\"Cleaned shape:\", df_cleaned.shape)\n",
    "print(\"\\nRemaining columns:\")\n",
    "print(df_cleaned.columns.tolist())"
   ]
  },
  {
   "cell_type": "code",
   "execution_count": 88,
   "id": "b3bc7ac5",
   "metadata": {},
   "outputs": [
    {
     "name": "stdout",
     "output_type": "stream",
     "text": [
      "\n",
      "Median values per column:\n",
      "generation biomass: 367.0\n",
      "generation fossil brown coal/lignite: 509.0\n",
      "generation fossil coal-derived gas: 0.0\n",
      "generation fossil gas: 4969.0\n",
      "generation fossil hard coal: 4474.0\n",
      "generation fossil oil: 300.0\n",
      "generation fossil oil shale: 0.0\n",
      "generation fossil peat: 0.0\n",
      "generation geothermal: 0.0\n",
      "generation hydro pumped storage aggregated: nan\n",
      "generation hydro pumped storage consumption: 68.0\n",
      "generation hydro run-of-river and poundage: 906.0\n",
      "generation hydro water reservoir: 2164.0\n",
      "generation marine: 0.0\n",
      "generation nuclear: 6566.0\n",
      "generation other: 57.0\n",
      "generation other renewable: 88.0\n",
      "generation solar: 616.0\n",
      "generation waste: 279.0\n",
      "generation wind offshore: 0.0\n",
      "generation wind onshore: 4849.0\n",
      "forecast solar day ahead: 576.0\n",
      "forecast wind offshore eday ahead: nan\n",
      "forecast wind onshore day ahead: 4855.0\n",
      "total load forecast: 28906.0\n",
      "total load actual: 28901.0\n",
      "price day ahead: 50.52\n",
      "price actual: 58.02\n"
     ]
    }
   ],
   "source": [
    "medians = df.median(numeric_only=True)\n",
    "\n",
    "print(\"\\nMedian values per column:\")\n",
    "for col, val in medians.items():\n",
    "    print(f\"{col}: {val}\")"
   ]
  },
  {
   "cell_type": "code",
   "execution_count": 89,
   "id": "6ea08169",
   "metadata": {},
   "outputs": [
    {
     "name": "stdout",
     "output_type": "stream",
     "text": [
      "\n",
      "Median values per column after removing NULL values:\n",
      "generation biomass: 367.0\n",
      "generation fossil brown coal/lignite: 509.0\n",
      "generation fossil coal-derived gas: 0.0\n",
      "generation fossil gas: 4969.0\n",
      "generation fossil hard coal: 4474.0\n",
      "generation fossil oil: 300.0\n",
      "generation fossil oil shale: 0.0\n",
      "generation fossil peat: 0.0\n",
      "generation geothermal: 0.0\n",
      "generation hydro pumped storage consumption: 68.0\n",
      "generation hydro run-of-river and poundage: 906.0\n",
      "generation hydro water reservoir: 2164.0\n",
      "generation marine: 0.0\n",
      "generation nuclear: 6566.0\n",
      "generation other: 57.0\n",
      "generation other renewable: 88.0\n",
      "generation solar: 616.0\n",
      "generation waste: 279.0\n",
      "generation wind offshore: 0.0\n",
      "generation wind onshore: 4849.0\n",
      "forecast solar day ahead: 576.0\n",
      "forecast wind onshore day ahead: 4855.0\n",
      "total load forecast: 28906.0\n",
      "total load actual: 28901.0\n",
      "price day ahead: 50.52\n",
      "price actual: 58.02\n"
     ]
    }
   ],
   "source": [
    "cleaned_medians = df_cleaned.median(numeric_only=True)\n",
    "\n",
    "print(\"\\nMedian values per column after removing NULL values:\")\n",
    "for col, val in cleaned_medians.items():\n",
    "    print(f\"{col}: {val}\")"
   ]
  },
  {
   "cell_type": "code",
   "execution_count": 90,
   "id": "ba87736b",
   "metadata": {},
   "outputs": [
    {
     "name": "stdout",
     "output_type": "stream",
     "text": [
      "Cleaned shape: (35064, 27)\n",
      "\n",
      "Dropped rows: 0 (0.00%)\n",
      "Dropped columns: 2 (6.90%)\n"
     ]
    }
   ],
   "source": [
    "cleaned_rows, cleaned_cols = df_cleaned.shape\n",
    "\n",
    "row_drop_pct = (orig_rows - cleaned_rows) / orig_rows * 100\n",
    "col_drop_pct = (orig_cols - cleaned_cols) / orig_cols * 100\n",
    "\n",
    "print(\"Cleaned shape:\", df_cleaned.shape)\n",
    "print(f\"\\nDropped rows: {orig_rows - cleaned_rows} ({row_drop_pct:.2f}%)\")\n",
    "print(f\"Dropped columns: {orig_cols - cleaned_cols} ({col_drop_pct:.2f}%)\")"
   ]
  }
 ],
 "metadata": {
  "kernelspec": {
   "display_name": ".venv (3.13.7)",
   "language": "python",
   "name": "python3"
  },
  "language_info": {
   "codemirror_mode": {
    "name": "ipython",
    "version": 3
   },
   "file_extension": ".py",
   "mimetype": "text/x-python",
   "name": "python",
   "nbconvert_exporter": "python",
   "pygments_lexer": "ipython3",
   "version": "3.13.7"
  }
 },
 "nbformat": 4,
 "nbformat_minor": 5
}
